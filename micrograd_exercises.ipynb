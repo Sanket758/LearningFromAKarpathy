{
 "cells": [
  {
   "cell_type": "markdown",
   "metadata": {
    "id": "JnGHatCI51JP"
   },
   "source": [
    "# micrograd exercises\n",
    "\n",
    "1. watch the [micrograd video](https://www.youtube.com/watch?v=VMj-3S1tku0) on YouTube\n",
    "2. come back and complete these exercises to level up :)"
   ]
  },
  {
   "cell_type": "markdown",
   "metadata": {
    "id": "OFt6NKOz6iBZ"
   },
   "source": [
    "## section 1: derivatives"
   ]
  },
  {
   "cell_type": "code",
   "execution_count": 1,
   "metadata": {
    "id": "3Jx9fCXl5xHd"
   },
   "outputs": [
    {
     "name": "stdout",
     "output_type": "stream",
     "text": [
      "6.336362190988558\n"
     ]
    }
   ],
   "source": [
    "# here is a mathematical expression that takes 3 inputs and produces one output\n",
    "from math import sin, cos\n",
    "\n",
    "def f(a, b, c):\n",
    "  return -a**3 + sin(3*b) - 1.0/c + b**2.5 - a**0.5\n",
    "\n",
    "print(f(2, 3, 4))"
   ]
  },
  {
   "cell_type": "markdown",
   "metadata": {},
   "source": [
    "## Equation\n",
    "\n",
    "$-a^3 + \\sin(3b) - \\frac{1}{c} + b^{2.5} - a^{0.5}$"
   ]
  },
  {
   "cell_type": "code",
   "execution_count": 2,
   "metadata": {
    "id": "qXaH59eL9zxf"
   },
   "outputs": [
    {
     "name": "stdout",
     "output_type": "stream",
     "text": [
      "OK for dim 0: expected -12.353553390593273, yours returns -12.353553390593273\n",
      "OK for dim 1: expected 10.25699027111255, yours returns 10.25699027111255\n",
      "OK for dim 2: expected 0.0625, yours returns 0.0625\n"
     ]
    }
   ],
   "source": [
    "# write the function df that returns the analytical gradient of f\n",
    "# i.e. use your skills from calculus to take the derivative, then implement the formula\n",
    "# if you do not calculus then feel free to ask wolframalpha, e.g.:\n",
    "# https://www.wolframalpha.com/input?i=d%2Fda%28sin%283*a%29%29%29\n",
    "\n",
    "def gradf(a, b, c):\n",
    "    df_da = (-3*(a**2)) - (0.5*(a**-0.5))\n",
    "    df_db = 3*cos(3*b) + (2.5*b**1.5)\n",
    "    df_dc = c**(-2)\n",
    "    return [df_da, df_db, df_dc]\n",
    "  \n",
    "  # return [0, 0, 0] # todo, return [df/da, df/db, df/dc]\n",
    "\n",
    "# expected answer is the list of\n",
    "ans = [-12.353553390593273, 10.25699027111255, 0.0625]\n",
    "yours = gradf(2, 3, 4)\n",
    "for dim in range(3):\n",
    "  ok = 'OK' if abs(yours[dim] - ans[dim]) < 1e-5 else 'WRONG!'\n",
    "  print(f\"{ok} for dim {dim}: expected {ans[dim]}, yours returns {yours[dim]}\")\n"
   ]
  },
  {
   "cell_type": "markdown",
   "metadata": {},
   "source": [
    "## Forward Difference Method\n",
    "\n",
    "The formula for the forward difference method is:\n",
    "\n",
    "$$\\frac{f(x+h) - f(x)}{h}$$\n",
    "\n",
    "### Explanation:\n",
    "- This is called the **forward difference method**.\n",
    "- It only computes one additional function evaluation, \\( f(x+h) \\), and compares it to \\( f(x) \\).\n",
    "- It is a simpler and slightly less accurate approximation of the derivative because it doesn't consider what's happening on the \"other side\" of \\( x \\) (i.e., \\( x-h \\)).\n",
    "\n",
    "### Pros:\n",
    "- **Efficient**: Requires only one additional computation of \\( f \\).\n",
    "- **Simple**: Easy to implement.\n",
    "\n",
    "### Cons:\n",
    "- **Less Accurate**: It is a first-order approximation, meaning the error scales linearly with \\( h \\). For small \\( h \\), this can still be quite accurate, but not as much as other methods.\n"
   ]
  },
  {
   "cell_type": "code",
   "execution_count": 3,
   "metadata": {
    "id": "_27n-KTA9Qla"
   },
   "outputs": [
    {
     "name": "stdout",
     "output_type": "stream",
     "text": [
      "OK for dim 0: expected -12.353553390593273, yours returns -12.353559348809995\n",
      "OK for dim 1: expected 10.25699027111255, yours returns 10.256991666679482\n",
      "OK for dim 2: expected 0.0625, yours returns 0.062499984743169534\n"
     ]
    }
   ],
   "source": [
    "# now estimate the gradient numerically without any calculus, using\n",
    "# the approximation we used in the video.\n",
    "# you should not call the function df from the last cell\n",
    "# to calculate i am gonna use the formula df/dh = f(x+h)(f(x))/h\n",
    "\n",
    "# -----------\n",
    "numerical_grad = [0, 0, 0] # TODO \n",
    "h = 0.000001\n",
    "def gradients_without_calculus(a,b,c,f):\n",
    "  grad_a = f(a,b,c)\n",
    "  grad_a_h = f(a+h, b, c)\n",
    "  est_grad_a = (grad_a_h - grad_a)/h\n",
    "  \n",
    "  grad_b = f(a,b,c)\n",
    "  grad_b_h = f(a, b+h, c)\n",
    "  est_grad_b = (grad_b_h - grad_b)/h\n",
    "  \n",
    "  grad_c = f(a,b,c)\n",
    "  grad_c_h = f(a, b, c+h)\n",
    "  est_grad_c = (grad_c_h - grad_c)/h\n",
    "  \n",
    "  return [est_grad_a, est_grad_b,est_grad_c]\n",
    "  \n",
    "  \n",
    "numerical_grad = gradients_without_calculus(2,3,4,f)\n",
    "# -----------\n",
    "\n",
    "for dim in range(3):\n",
    "  ok = 'OK' if abs(numerical_grad[dim] - ans[dim]) < 1e-5 else 'WRONG!'\n",
    "  print(f\"{ok} for dim {dim}: expected {ans[dim]}, yours returns {numerical_grad[dim]}\")\n"
   ]
  },
  {
   "cell_type": "markdown",
   "metadata": {},
   "source": [
    "\n",
    "## Central Difference Method or Symmetric_derivative\n",
    "\n",
    "The formula for the central difference method is:\n",
    "\n",
    "$$\\frac{f(x+h) - f(x-h)}{2h}$$\n",
    "\n",
    "### Explanation:\n",
    "- This is called the **central difference method**.\n",
    "- It uses two additional function evaluations: \\( f(x+h) \\) and \\( f(x-h) \\).\n",
    "- It computes the slope of the secant line that passes symmetrically through \\( x+h \\) and \\( x-h \\), providing a more balanced approximation.\n",
    "\n",
    "### Pros:\n",
    "- **More Accurate**: It is a second-order approximation, meaning the error scales quadratically with \\( h \\). For the same \\( h \\), this method is significantly more accurate than the forward difference method.\n",
    "- **Symmetry**: It considers the changes in \\( f \\) both above and below \\( x \\), making it less sensitive to numerical artifacts.\n",
    "\n",
    "### Cons:\n",
    "- **Less Efficient**: Requires two additional function evaluations (\\( f(x+h) \\) and \\( f(x-h) \\)) instead of one.\n"
   ]
  },
  {
   "cell_type": "code",
   "execution_count": null,
   "metadata": {
    "id": "BUqsGb5o_h2P"
   },
   "outputs": [
    {
     "name": "stdout",
     "output_type": "stream",
     "text": [
      "OK for dim 0: expected -12.353553390593273, yours returns -12.353553391353245\n",
      "OK for dim 1: expected 10.25699027111255, yours returns 10.25699027401572\n",
      "OK for dim 2: expected 0.0625, yours returns 0.06250000028629188\n"
     ]
    }
   ],
   "source": [
    "# there is an alternative formula that provides a much better numerical\n",
    "# approximation to the derivative of a function.\n",
    "# learn about it here: https://en.wikipedia.org/wiki/Symmetric_derivative\n",
    "# implement it. confirm that for the same step size h this version gives a\n",
    "# better approximation.\n",
    "\n",
    "# -----------\n",
    "numerical_grad2 = [0, 0, 0] # TODO\n",
    "h = 0.000001\n",
    "def gradients_without_calculus(a,b,c,f):\n",
    "  grad_a_h = f(a+h, b, c)\n",
    "  grad_a_h_ = f(a-h, b, c)\n",
    "  est_grad_a = (grad_a_h - grad_a_h_)/(2*h)\n",
    "  \n",
    "  grad_b_h = f(a, b+h, c)\n",
    "  grad_b_h_ = f(a, b-h, c)\n",
    "  est_grad_b = (grad_b_h - grad_b_h_) / (h*2)\n",
    "  \n",
    "  grad_c_h = f(a, b, c+h)\n",
    "  grad_c_h_ = f(a, b, c-h)\n",
    "  est_grad_c = (grad_c_h - grad_c_h_)/(2*h)\n",
    "   \n",
    "  return [est_grad_a, est_grad_b,est_grad_c]\n",
    "  \n",
    "  \n",
    "numerical_grad2 = gradients_without_calculus(2,3,4,f)\n",
    "# -----------\n",
    "\n",
    "for dim in range(3):\n",
    "  ok = 'OK' if abs(numerical_grad2[dim] - ans[dim]) < 1e-5 else 'WRONG!'\n",
    "  print(f\"{ok} for dim {dim}: expected {ans[dim]}, yours returns {numerical_grad2[dim]}\")\n"
   ]
  },
  {
   "cell_type": "markdown",
   "metadata": {
    "id": "tklF9s_4AtlI"
   },
   "source": [
    "## section 2: support for softmax"
   ]
  },
  {
   "cell_type": "code",
   "execution_count": null,
   "metadata": {
    "id": "nAPe_RVrCTeO"
   },
   "outputs": [],
   "source": [
    "\n",
    "# Value class starter code, with many functions taken out\n",
    "# from math import exp, log\n",
    "import math\n",
    "\n",
    "class Value:\n",
    "\n",
    "  def __init__(self, data, _children=(), _op='', label=''):\n",
    "    self.data = data\n",
    "    self.grad = 0.0\n",
    "    self._backward = lambda: None\n",
    "    self._prev = set(_children)\n",
    "    self._op = _op\n",
    "    self.label = label\n",
    "\n",
    "  def __repr__(self):\n",
    "    return f\"Value(data={self.data}, grad={self.grad})\"\n",
    "\n",
    "  def __add__(self, other): # exactly as in the video\n",
    "    other = other if isinstance(other, Value) else Value(other)\n",
    "    out = Value(self.data + other.data, (self, other), '+')\n",
    "\n",
    "    def _backward():\n",
    "      print('add backward called')\n",
    "      self.grad += 1.0 * out.grad\n",
    "      other.grad += 1.0 * out.grad\n",
    "    out._backward = _backward\n",
    "\n",
    "    return out\n",
    "  \n",
    "  def __radd__(self, other): # other + self\n",
    "    return self + other\n",
    "\n",
    "  # ------\n",
    "  # re-implement all the other functions needed for the exercises below\n",
    "  # your code here\n",
    "  # TODO   \n",
    "  def __mul__(self, other):\n",
    "    other = other if isinstance(other, Value) else Value(other)\n",
    "    out = Value(self.data*other.data, (self, other), '*')\n",
    "    \n",
    "    def _backward():\n",
    "      print('mul backward called on', self, '& ', other)\n",
    "      self.grad += other.data * out.grad\n",
    "      out.grad += self.data * out.grad\n",
    "    out._backward = _backward\n",
    "    return out\n",
    "  \n",
    "  def __rmul__(self, other): # other * self\n",
    "    return self * other\n",
    "  \n",
    "  def exp(self):\n",
    "    out = Value(math.exp(self.data), (self,), 'exp')\n",
    "    \n",
    "    def _backward():\n",
    "      print('exp backward called on ', self)\n",
    "      self.grad += out.data * out.grad\n",
    "    out._backward = _backward\n",
    "    \n",
    "    return out\n",
    "  \n",
    "  def log(self):\n",
    "    # (this is the natural log)\n",
    "    out = Value(math.log(self.data), (self,), 'log')\n",
    "\n",
    "    def _backward():\n",
    "        self.grad += (1. / self.data) * out.grad\n",
    "    out._backward = _backward\n",
    "\n",
    "    return out\n",
    "\n",
    "  def __pow__(self, other):\n",
    "    assert isinstance(other, (int, float)), \"only supporting int/float powers for now\"\n",
    "    out = Value(self.data**other, (self,), f'**{other}')\n",
    "\n",
    "    def _backward():\n",
    "        self.grad += (other * self.data**(other-1)) * out.grad\n",
    "    out._backward = _backward\n",
    "\n",
    "    return out\n",
    "\n",
    "  def __neg__(self):\n",
    "    return self * -1.0\n",
    "    \n",
    "  def __sub__(self, other):\n",
    "    return self + (-other)\n",
    "  \n",
    "  def __rsub__(self, other): # other - self\n",
    "    return other + (-self)\n",
    "    \n",
    "  # Division (a / b) via Power (** -1) and Multiplication (*): \n",
    "  #   Fails to handle the interdependent gradients of numerator and denominator,\n",
    "  #   making explicit handling necessary for correct gradient propagation.\n",
    "  # def __truediv__(self, other):\n",
    "  #   return self * other**-1\n",
    "       \n",
    "  def __truediv__(self, other): # self / other\n",
    "    out = Value(self.data/other.data, (self, other), 'div')\n",
    "    \n",
    "    def _backward():\n",
    "        # The division operation involves two terms, the numerator and the denominator, and their gradients are interdependent:\n",
    "        self.grad += (1/other.data) * out.grad # numerator\n",
    "        other.grad += -(self.data/(other.data ** 2)) * out.grad # denominator\n",
    "    \n",
    "    out._backward = _backward\n",
    "    \n",
    "    return out\n",
    "\n",
    "  # ------\n",
    "\n",
    "  def backward(self): # exactly as in video\n",
    "    topo = []\n",
    "    visited = set()\n",
    "    def build_topo(v):\n",
    "      if v not in visited:\n",
    "        visited.add(v)\n",
    "        for child in v._prev:\n",
    "          build_topo(child)\n",
    "        topo.append(v)\n",
    "    build_topo(self)\n",
    "\n",
    "    self.grad = 1.0\n",
    "    for node in reversed(topo):\n",
    "      node._backward()\n"
   ]
  },
  {
   "cell_type": "code",
   "execution_count": 89,
   "metadata": {
    "id": "VgWvwVQNAvnI"
   },
   "outputs": [
    {
     "name": "stdout",
     "output_type": "stream",
     "text": [
      "mul backward called on Value(data=-2.1755153626167147, grad=0.0) &  Value(data=-1.0, grad=0.0)\n",
      "add backward called\n",
      "add backward called\n",
      "add backward called\n",
      "exp backward called on  Value(data=3.0, grad=0.0)\n",
      "add backward called\n",
      "exp backward called on  Value(data=0.0, grad=0.0)\n",
      "exp backward called on  Value(data=-2.0, grad=0.0)\n",
      "exp backward called on  Value(data=1.0, grad=0.0)\n",
      "OK for dim 0: expected 0.041772570515350445, yours returns 0.041772570515350445\n",
      "OK for dim 1: expected 0.8390245074625319, yours returns 0.8390245074625319\n",
      "OK for dim 2: expected 0.005653302662216329, yours returns 0.005653302662216329\n",
      "OK for dim 3: expected -0.8864503806400986, yours returns -0.886450380640099\n"
     ]
    }
   ],
   "source": [
    "# without referencing our code/video __too__ much, make this cell work\n",
    "# you'll have to implement (in some cases re-implemented) a number of functions\n",
    "# of the Value object, similar to what we've seen in the video.\n",
    "# instead of the squared error loss this implements the negative log likelihood\n",
    "# loss, which is very often used in classification.\n",
    "\n",
    "# this is the softmax function\n",
    "# https://en.wikipedia.org/wiki/Softmax_function\n",
    "\n",
    "# def true_sum(values):\n",
    "#     s = 0\n",
    "#     for v in values:\n",
    "#       s+=v.data\n",
    "#     return s\n",
    "\n",
    "def softmax(logits) -> Value:\n",
    "  counts = [logit.exp() for logit in logits]\n",
    "  denominator = sum(counts)\n",
    "  out = [c / denominator for c in counts]\n",
    "  return out\n",
    "\n",
    "# this is the negative log likelihood loss function, pervasive in classification\n",
    "logits = [Value(0.0), Value(3.0), Value(-2.0), Value(1.0)]\n",
    "probs = softmax(logits)\n",
    "loss = -probs[3].log() # dim 3 acts as the label for this input example\n",
    "loss.backward()\n",
    "\n",
    "ans = [0.041772570515350445, 0.8390245074625319, 0.005653302662216329, -0.8864503806400986]\n",
    "for dim in range(4):\n",
    "  ok = 'OK' if abs(logits[dim].grad - ans[dim]) < 1e-5 else 'WRONG!'\n",
    "  print(f\"{ok} for dim {dim}: expected {ans[dim]}, yours returns {logits[dim].grad}\")\n"
   ]
  },
  {
   "cell_type": "markdown",
   "metadata": {},
   "source": [
    "This was tough, i might need to revisit the video. Also this comment helped me: https://github.com/karpathy/micrograd/issues/22"
   ]
  },
  {
   "cell_type": "code",
   "execution_count": null,
   "metadata": {
    "id": "q7ca1SVAGG1S"
   },
   "outputs": [],
   "source": [
    "# verify the gradient using the torch library\n",
    "# torch should give you the exact same gradient\n",
    "import torch\n"
   ]
  },
  {
   "cell_type": "code",
   "execution_count": 104,
   "metadata": {},
   "outputs": [
    {
     "name": "stdout",
     "output_type": "stream",
     "text": [
      "Loss: 2.1755154132843018\n",
      "OK for dim 0: expected 0.041772570515350445, torch returns 0.041772566735744476\n",
      "OK for dim 1: expected 0.8390245074625319, torch returns 0.8390244841575623\n",
      "OK for dim 2: expected 0.005653302662216329, torch returns 0.005653302650898695\n",
      "OK for dim 3: expected -0.8864503806400986, torch returns -0.8864504098892212\n"
     ]
    }
   ],
   "source": [
    "import torch\n",
    "import torch.nn.functional as F\n",
    "\n",
    "# Input logits\n",
    "logits = torch.tensor([0.0, 3.0, -2.0, 1.0], requires_grad=True)\n",
    "probs = F.softmax(logits, dim=0)\n",
    "loss = -probs[3].log()\n",
    "loss.backward()\n",
    "print(f\"Loss: {loss.item()}\")\n",
    "\n",
    "ans = [0.041772570515350445, 0.8390245074625319, 0.005653302662216329, -0.8864503806400986]\n",
    "for dim in range(4):\n",
    "    grad = logits.grad[dim].item()\n",
    "    ok = 'OK' if abs(grad - ans[dim]) < 1e-5 else 'WRONG!'\n",
    "    print(f\"{ok} for dim {dim}: expected {ans[dim]}, torch returns {grad}\")"
   ]
  },
  {
   "cell_type": "code",
   "execution_count": null,
   "metadata": {},
   "outputs": [],
   "source": []
  }
 ],
 "metadata": {
  "colab": {
   "provenance": []
  },
  "kernelspec": {
   "display_name": "base",
   "language": "python",
   "name": "python3"
  },
  "language_info": {
   "codemirror_mode": {
    "name": "ipython",
    "version": 3
   },
   "file_extension": ".py",
   "mimetype": "text/x-python",
   "name": "python",
   "nbconvert_exporter": "python",
   "pygments_lexer": "ipython3",
   "version": "3.12.4"
  }
 },
 "nbformat": 4,
 "nbformat_minor": 0
}
